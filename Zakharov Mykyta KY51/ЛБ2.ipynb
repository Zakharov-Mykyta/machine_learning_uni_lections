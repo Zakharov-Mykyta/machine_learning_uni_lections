{
  "nbformat": 4,
  "nbformat_minor": 0,
  "metadata": {
    "colab": {
      "provenance": []
    },
    "kernelspec": {
      "name": "python3",
      "display_name": "Python 3"
    },
    "language_info": {
      "name": "python"
    }
  },
  "cells": [
    {
      "cell_type": "code",
      "source": [
        "import numpy as np\n",
        "import matplotlib.pyplot as plt\n",
        "\n",
        "def sigmoid(x):\n",
        "    return 1 / (1 + np.exp(-x))\n",
        "\n",
        "def sigmoid_derivative(x):\n",
        "    return x * (1 - x)\n",
        "\n",
        "input_vectors = np.array([[0.2, 0.5, 0.3], \n",
        "                          [0.1, -0.2, 0.25], \n",
        "                          [0.15, 0.5, 0.2]])\n",
        "output_vectors = np.array([[0.1, 0.2], \n",
        "                           [0.1, 0.4], \n",
        "                           [0.3, 0.6]])\n",
        "\n",
        "np.random.seed(42)\n",
        "#Задаємо ваги\n",
        "weights1 = np.random.uniform(-0.5, 0.5, (3, 4))\n",
        "weights2 = np.random.uniform(-0.5, 0.5, (4, 3))\n",
        "weights3 = np.random.uniform(-0.5, 0.5, (3, 2))\n",
        "\n",
        "learning_rate = 0.5\n",
        "epochs = 100000\n",
        "errors = []\n",
        "\n",
        "for epoch in range(epochs):\n",
        "    for i in range(len(input_vectors)):\n",
        "        #Прямий прохід\n",
        "        layer1 = sigmoid(np.dot(input_vectors[i], weights1))\n",
        "        layer2 = sigmoid(np.dot(layer1, weights2))\n",
        "        layer3 = sigmoid(np.dot(layer2, weights3))\n",
        "\n",
        "        #Зворотній прохід\n",
        "        layer3_error = output_vectors[i] - layer3\n",
        "        layer3_delta = layer3_error * sigmoid_derivative(layer3)\n",
        "\n",
        "        layer2_error = np.dot(layer3_delta, weights3.T)\n",
        "        layer2_delta = layer2_error * sigmoid_derivative(layer2)\n",
        "\n",
        "        layer1_error = np.dot(layer2_delta, weights2.T)\n",
        "        layer1_delta = layer1_error * sigmoid_derivative(layer1)\n",
        "\n",
        "        #Оновлення вагів\n",
        "        weights3 += learning_rate * np.outer(layer2, layer3_delta)\n",
        "        weights2 += learning_rate * np.outer(layer1, layer2_delta)\n",
        "        weights1 += learning_rate * np.outer(input_vectors[i], layer1_delta)\n",
        "\n",
        "    if epoch % 1000 == 0:\n",
        "        errors.append(np.mean(np.abs(layer3_error)))\n",
        "print(\"Значення після тренування:\") \n",
        "print(layer3)\n",
        "plt.plot(range(0, epochs, 1000), errors)\n",
        "plt.xlabel(\"Epochs (x1000)\")\n",
        "plt.ylabel(\"Error\")\n",
        "plt.show()"
      ],
      "metadata": {
        "colab": {
          "base_uri": "https://localhost:8080/",
          "height": 318
        },
        "id": "ZtK9b0fWcrUN",
        "outputId": "80706f7f-b8c1-4353-fcea-4f30dc77ac48"
      },
      "execution_count": 7,
      "outputs": [
        {
          "output_type": "stream",
          "name": "stdout",
          "text": [
            "Значення після тренування:\n",
            "[0.3 0.6]\n"
          ]
        },
        {
          "output_type": "display_data",
          "data": {
            "text/plain": [
              "<Figure size 432x288 with 1 Axes>"
            ],
            "image/png": "[encoded data removed]"
          },
          "metadata": {
            "needs_background": "light"
          }
        }
      ]
    }
  ]
}